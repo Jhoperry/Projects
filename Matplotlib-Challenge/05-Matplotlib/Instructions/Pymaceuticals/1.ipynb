{
 "cells": [
  {
   "cell_type": "code",
   "execution_count": null,
   "metadata": {},
   "outputs": [],
   "source": [
    "# Dependencies and Setup\n",
    "%matplotlib inline\n",
    "import matplotlib.pyplot as plt\n",
    "import pandas as pd\n",
    "import numpy as np\n",
    "from scipy import stats\n",
    "\n",
    "# Hide warning messages in notebook\n",
    "import warnings\n",
    "warnings.filterwarnings('ignore')\n",
    "\n",
    "# File to Load (Remember to Change These)\n",
    "mouse_drug_data_to_load = \"data/mouse_drug_data.csv\"\n",
    "clinical_trial_data_to_load = \"data/clinicaltrial_data.csv\"\n",
    "\n",
    "# Read the Mouse and Drug Data and the Clinical Trial Data\n",
    "mouseDrugDF = pd.read_csv(mouse_drug_data_to_load)\n",
    "trialDF = pd.read_csv(clinical_trial_data_to_load)\n",
    "\n",
    "#Remove rows where mouseID == \"g989\"; listed twice with two different drugs\n",
    "mouseDrugDF = mouseDrugDF.drop_duplicates(subset = 'Mouse ID', keep = False)\n",
    "\n",
    "# Combine the data into a single dataset\n",
    "mouseTrialsDF = pd.merge(trialDF, mouseDrugDF, how = \"left\", on = [\"Mouse ID\"])\n",
    "\n",
    "# Display the data table for preview\n",
    "mouseTrialsDF.head()"
   ]
  },
  {
   "cell_type": "markdown",
   "metadata": {},
   "source": [
    "## Tumor Response to Treatment"
   ]
  },
  {
   "cell_type": "code",
   "execution_count": null,
   "metadata": {},
   "outputs": [],
   "source": [
    "# Store the Mean Tumor Volume Data Grouped by Drug and Timepoint \n",
    "tumorVolumeByDrug = mouseTrialsDF.groupby([\"Drug\", \"Timepoint\"])['Tumor Volume (mm3)'].mean()\n",
    "\n",
    "# Convert to DataFrame\n",
    "tumorVolumeByDrug = pd.DataFrame(tumorVolumeByDrug).reset_index()\n",
    "\n",
    "# Preview DataFrame\n",
    "tumorVolumeByDrug.head()"
   ]
  },
  {
   "cell_type": "code",
   "execution_count": null,
   "metadata": {
    "scrolled": true
   },
   "outputs": [],
   "source": []
  },
  {
   "cell_type": "code",
   "execution_count": null,
   "metadata": {},
   "outputs": [],
   "source": [
    "# Store the Standard Error of Tumor Volumes Grouped by Drug and Timepoint\n",
    "stdErrorTumorVol = mouseTrialsDF.groupby([\"Drug\", \"Timepoint\"])['Tumor Volume (mm3)'].sem()\n",
    "\n",
    "# Convert to DataFrame\n",
    "stdErrorTumorVol = pd.DataFrame(stdErrorTumorVol).reset_index()\n",
    "\n",
    "# Preview DataFrame\n",
    "stdErrorTumorVol.head()"
   ]
  },
  {
   "cell_type": "code",
   "execution_count": null,
   "metadata": {},
   "outputs": [],
   "source": []
  },
  {
   "cell_type": "code",
   "execution_count": null,
   "metadata": {},
   "outputs": [],
   "source": [
    "# Minor Data Munging to Re-Format the Data Frames\n",
    "tumorVolVsTime = tumorVolumeByDrug.pivot(index='Timepoint', columns='Drug', values='Tumor Volume (mm3)')\n",
    "stdErrVsTime = stdErrorTumorVol.pivot(index='Timepoint', columns='Drug', values='Tumor Volume (mm3)')\n",
    "stdErrVsTime.head()\n"
   ]
  },
  {
   "cell_type": "code",
   "execution_count": null,
   "metadata": {
    "scrolled": true
   },
   "outputs": [],
   "source": []
  },
  {
   "cell_type": "code",
   "execution_count": null,
   "metadata": {},
   "outputs": [],
   "source": [
    "drugList = [\"Capomulin\", \"Infubinol\", \"Ketapril\", \"Placebo\"]\n",
    "plotStyleDict = {\"Capomulin\":'ro:', 'Infubinol':'b^:', 'Ketapril':'gs:', 'Placebo': 'kd:'}\n",
    "\n",
    "# Generate the Plot (with Error Bars)\n",
    "\n",
    "fig1, ax1 = plt.subplots()\n",
    "for drug in drugList:\n",
    "    ax1.errorbar(tumorVolVsTime.index, tumorVolVsTime[drug], stdErrVsTime[drug], fmt = plotStyleDict[drug])\n",
    "ax1.legend()\n",
    "plt.grid(True)\n",
    "plt.title('Tumor Response to Treatment')\n",
    "plt.xlabel('Time (Days)')\n",
    "plt.ylabel('Tumor Volume (mm3)')\n",
    "\n",
    "#Save plot \n",
    "plt.savefig(\"TumorResponseToTreatment.png\")\n",
    "plt.show()\n"
   ]
  },
  {
   "cell_type": "code",
   "execution_count": null,
   "metadata": {},
   "outputs": [],
   "source": [
    "# Show the Figure\n",
    "plt.show()"
   ]
  },
  {
   "cell_type": "markdown",
   "metadata": {},
   "source": [
    "![Tumor Response to Treatment](../Images/treatment.png)"
   ]
  },
  {
   "cell_type": "markdown",
   "metadata": {},
   "source": [
    "## Metastatic Response to Treatment"
   ]
  },
  {
   "cell_type": "code",
   "execution_count": null,
   "metadata": {},
   "outputs": [],
   "source": [
    "# Store the Mean Met. Site Data Grouped by Drug and Timepoint \n",
    "metastaticSitesByDrug = mouseTrialsDF.groupby([\"Drug\", \"Timepoint\"])['Metastatic Sites'].mean()\n",
    "# Convert to DataFrame\n",
    "metastaticSitesByDrug= pd.DataFrame(metastaticSitesByDrug).reset_index()\n",
    "# Preview DataFrame\n",
    "metastaticSitesByDrug.head()"
   ]
  },
  {
   "cell_type": "code",
   "execution_count": null,
   "metadata": {},
   "outputs": [],
   "source": []
  },
  {
   "cell_type": "code",
   "execution_count": null,
   "metadata": {},
   "outputs": [],
   "source": [
    "# Store the Standard Error associated with Met. Sites Grouped by Drug and Timepoint \n",
    "stdErrorMetastaticSites = mouseTrialsDF.groupby([\"Drug\", \"Timepoint\"])['Metastatic Sites'].sem()\n",
    "# Convert to DataFrame\n",
    "stdErrorMetastaticSites = pd.DataFrame(stdErrorMetastaticSites).reset_index()\n",
    "# Preview DataFrame\n",
    "stdErrorMetastaticSites.head()\n"
   ]
  },
  {
   "cell_type": "code",
   "execution_count": null,
   "metadata": {},
   "outputs": [],
   "source": []
  },
  {
   "cell_type": "code",
   "execution_count": null,
   "metadata": {},
   "outputs": [],
   "source": [
    "# Minor Data Munging to Re-Format the Data Frames\n",
    "metastaticSitesbyTime = metastaticSitesByDrug.pivot(index='Timepoint', columns=\"Drug\", values=\"Metastatic Sites\")\n",
    "stdErrorMetastaticSites = stdErrorMetastaticSites.pivot(index= 'Timepoint', columns=\"Drug\", values=\"Metastatic Sites\")\n",
    "# Preview that Reformatting worked\n",
    "metastaticSitesbyTime"
   ]
  },
  {
   "cell_type": "code",
   "execution_count": null,
   "metadata": {
    "scrolled": true
   },
   "outputs": [],
   "source": []
  },
  {
   "cell_type": "code",
   "execution_count": null,
   "metadata": {},
   "outputs": [],
   "source": [
    "# Generate the Plot (with Error Bars)\n",
    "\n",
    "fig2, ax2 = plt.subplots()\n",
    "for drug in drugList:\n",
    "    ax2.errorbar(metastaticSitesbyTime.index, metastaticSitesbyTime[drug],\n",
    "             stdErrorMetastaticSites[drug], fmt=plotStyleDict[drug])\n",
    "\n",
    "ax2.legend()\n",
    "plt.grid(True)\n",
    "plt.title('Metastatic Spread during Treatment')\n",
    "plt.xlabel('Time (Days)')\n",
    "plt.ylabel('Metastatic Sites')\n",
    "\n",
    "\n",
    "# Save the Figure\n",
    "plt.savefig(\"MetastaticSpreadDuringTreatment.png\")\n",
    "# Show the Figure\n",
    "plt.show"
   ]
  },
  {
   "cell_type": "markdown",
   "metadata": {},
   "source": [
    "![Metastatic Spread During Treatment](../Images/spread.png)"
   ]
  },
  {
   "cell_type": "markdown",
   "metadata": {},
   "source": [
    "## Survival Rates"
   ]
  },
  {
   "cell_type": "code",
   "execution_count": null,
   "metadata": {},
   "outputs": [],
   "source": [
    "# Store the Count of Mice Grouped by Drug and Timepoint (W can pass any metric)\n",
    "mouseSurvival = mouseTrialsDF.groupby([\"Drug\", \"Timepoint\"])['Mouse ID'].count()\n",
    "\n",
    "# Convert to DataFrame\n",
    "mouseSurvival = pd.DataFrame(mouseSurvival).reset_index()\n",
    "mouseSurvival = mouseSurvival.rename(columns = {\"Mouse ID\":\"Mouse Count\"})\n",
    "\n",
    "# Preview DataFrame\n",
    "mouseSurvival.head()"
   ]
  },
  {
   "cell_type": "code",
   "execution_count": null,
   "metadata": {},
   "outputs": [],
   "source": []
  },
  {
   "cell_type": "code",
   "execution_count": null,
   "metadata": {},
   "outputs": [],
   "source": [
    "# Minor Data Munging to Re-Format the Data Frames\n",
    "mouseSurvivalByTime = mouseSurvival.pivot (index = \"Timepoint\", columns=\"Drug\", values=\"Mouse Count\")\n",
    "# Preview the Data Frame\n",
    "mouseSurvivalByTime"
   ]
  },
  {
   "cell_type": "code",
   "execution_count": null,
   "metadata": {
    "scrolled": true
   },
   "outputs": [],
   "source": []
  },
  {
   "cell_type": "code",
   "execution_count": null,
   "metadata": {},
   "outputs": [],
   "source": [
    "# Generate the Plot (for percentages)\n",
    "mouseSurvivalRate = pd.DataFrame()\n",
    "for col in mouseSurvivalByTime.columns:\n",
    "    mouseSurvivalRate[col] = 100 * mouseSurvivalByTime[col]/25\n",
    "\n",
    "fig3, ax3 = plt.subplots()\n",
    "for drug in drugList:\n",
    "    plt.plot(mouseSurvivalRate.index, mouseSurvivalRate[drug], plotStyleDict[drug])\n",
    "plt.grid(True)\n",
    "ax3.legend()\n",
    "plt.title(\"Survival During Treatment\")\n",
    "plt.xlabel(\"Time (Days)\")\n",
    "plt.ylabel(\"Survival Rate (%)\")\n",
    "\n",
    "# Save the Figure\n",
    "plt.savefig(\"SurvivalDuringTreatment.png\")\n",
    "# Show the Figure\n",
    "plt.show()\n"
   ]
  },
  {
   "cell_type": "markdown",
   "metadata": {},
   "source": [
    "![Metastatic Spread During Treatment](../Images/survival.png)"
   ]
  },
  {
   "cell_type": "markdown",
   "metadata": {},
   "source": [
    "## Summary Bar Graph"
   ]
  },
  {
   "cell_type": "code",
   "execution_count": null,
   "metadata": {},
   "outputs": [],
   "source": [
    "# Calculate the percent changes for each drug\n",
    "percentChangeStudyPeriod = (tumorVolVsTime.iloc[9, :] - tumorVolVsTime.iloc[0,:])/tumorVolVsTime.iloc[0,:] * 100\n",
    "\n",
    "# Display the data to confirm\n",
    "print(percentChangeStudyPeriod)"
   ]
  },
  {
   "cell_type": "code",
   "execution_count": null,
   "metadata": {},
   "outputs": [],
   "source": [
    "percentChange = percentChangeStudyPeriod.to_frame()\n",
    "percentChange = percentChange.rename(columns = {0 : \"Percent Change\"})\n",
    "percentChange[\"Pass\"] = (percentChange < 0)"
   ]
  },
  {
   "cell_type": "code",
   "execution_count": null,
   "metadata": {},
   "outputs": [],
   "source": [
    "fig4, ax4 = plt.subplots()\n",
    "x = 0\n",
    "\n",
    "for drug in drugList:\n",
    "    y = percentChange.loc[drug, \"Percent Change\"]\n",
    "    if percentChange.loc[drug, \"Pass\"] == True:\n",
    "        ax4.bar(drug, y, width = .9, color = \"g\")\n",
    "        plt.text(x-.25, -5, '{:.2f}%'.format(y), color = \"white\")\n",
    "    else:\n",
    "        ax4.bar(drug, y, width = .9, color = \"r\")\n",
    "        plt.text(x-.2, 2, '{:.2f}%'.format(y), color = \"black\")\n",
    "    x = 1 + x\n",
    "plt.yticks((-20, 0, 20, 40, 60))\n",
    "ax4.yaxis.grid()\n",
    "plt.title(\"Mean Tumor Change over 45 Day Trial\")\n",
    "plt.ylabel(\"% Change Tumor Volume\")\n",
    "plt.ylim(ymax = 65)\n",
    "\n",
    "plt.savefig(\"MeanTumorChange.png\")\n",
    "\n",
    "plt.show()\n"
   ]
  },
  {
   "cell_type": "markdown",
   "metadata": {},
   "source": [
    "![Metastatic Spread During Treatment](../Images/change.png)"
   ]
  },
  {
   "cell_type": "code",
   "execution_count": 3,
   "metadata": {},
   "outputs": [],
   "source": [
    "#Pymaceuticals Observed Trends\n",
    "# Capomulin was legitimately successful at treating the tumors in this population of mice. It was the only treatment of those analyzed to actually reduce the total tumor volume over the course of treatment. Additionally, survival rate was significantly higher compared to the other treatments. It should be noted that metastatic sites still increased over time, but at a rate slower than the other treatments.\n",
    "# Some of the other treatments were arguably less effective than no treatment (Placebo). Ketapril, in particular, was less effective at treating tumor volume than the placebo medication. The growth of metastatic sites for placebo treated mice and ketapril treated mice were indistinguishable given how their errors overlapped. This leads one to believe that Ketapril is not an effective method of treatment.\n",
    "# Infubinol was somewhat of a mixed bag as far as its effectivness. On the other hand, it had a similar trend of treating the tumor volume to Ketapril and the placebo though it did fair slightly better and it was the deadliest drug with the lowest survival rate. On the other hand, it led to fewer metastatic sites than both ketapril and placebo."
   ]
  }
 ],
 "metadata": {
  "anaconda-cloud": {},
  "kernelspec": {
   "display_name": "Python 3",
   "language": "python",
   "name": "python3"
  },
  "language_info": {
   "codemirror_mode": {
    "name": "ipython",
    "version": 3
   },
   "file_extension": ".py",
   "mimetype": "text/x-python",
   "name": "python",
   "nbconvert_exporter": "python",
   "pygments_lexer": "ipython3",
   "version": "3.7.3"
  }
 },
 "nbformat": 4,
 "nbformat_minor": 1
}
